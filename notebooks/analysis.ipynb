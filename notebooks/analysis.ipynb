{
 "cells": [
  {
   "cell_type": "code",
   "execution_count": 2,
   "metadata": {},
   "outputs": [
    {
     "name": "stderr",
     "output_type": "stream",
     "text": [
      "/home/lamsade/dsavine/miniconda3/envs/llm_extract_v2/lib/python3.11/site-packages/tqdm/auto.py:21: TqdmWarning: IProgress not found. Please update jupyter and ipywidgets. See https://ipywidgets.readthedocs.io/en/stable/user_install.html\n",
      "  from .autonotebook import tqdm as notebook_tqdm\n",
      "Saving the dataset (1/1 shards): 100%|██████████| 2898/2898 [00:00<00:00, 84040.94 examples/s]\n",
      "Saving the dataset (1/1 shards): 100%|██████████| 968/968 [00:00<00:00, 50413.31 examples/s]\n",
      "Saving the dataset (1/1 shards): 100%|██████████| 961/961 [00:00<00:00, 55428.79 examples/s]\n"
     ]
    }
   ],
   "source": [
    "## Load and save datasets\n",
    "\n",
    "from datasets import load_dataset\n",
    "\n",
    "dataset = \"sarus-tech/phee\"\n",
    "\n",
    "\n",
    "ds = load_dataset(dataset)\n",
    "ds.save_to_disk('../data/raw/'+dataset)"
   ]
  },
  {
   "cell_type": "code",
   "execution_count": 3,
   "metadata": {},
   "outputs": [],
   "source": [
    "## Load dataset from disk\n",
    "\n",
    "from datasets import load_from_disk\n",
    "\n",
    "ds = load_from_disk('../data/raw/'+dataset)"
   ]
  },
  {
   "cell_type": "code",
   "execution_count": 4,
   "metadata": {},
   "outputs": [
    {
     "data": {
      "text/plain": [
       "DatasetDict({\n",
       "    train: Dataset({\n",
       "        features: ['id', 'context', 'is_mult_event', 'annotations'],\n",
       "        num_rows: 2898\n",
       "    })\n",
       "    test: Dataset({\n",
       "        features: ['id', 'context', 'is_mult_event', 'annotations'],\n",
       "        num_rows: 968\n",
       "    })\n",
       "    dev: Dataset({\n",
       "        features: ['id', 'context', 'is_mult_event', 'annotations'],\n",
       "        num_rows: 961\n",
       "    })\n",
       "})"
      ]
     },
     "execution_count": 4,
     "metadata": {},
     "output_type": "execute_result"
    }
   ],
   "source": [
    "ds"
   ]
  },
  {
   "cell_type": "code",
   "execution_count": 5,
   "metadata": {},
   "outputs": [],
   "source": [
    "# def create_canaries(dataset, nb_canary):\n",
    "#     '''Create canaries for the dataset copying the first row canary number of times replacing the first n rows'''\n",
    "#     datasets = {}\n",
    "#     for i in range(nb_canary):\n",
    "#         dataset[i] = dataset[0]\n",
    "#         datasets[i+1] = dataset.copy()\n",
    "#     return datasets\n",
    "\n",
    "# datasets_with_canaries = create_canaries(ds['train'][\"context\"], 10)"
   ]
  },
  {
   "cell_type": "code",
   "execution_count": 6,
   "metadata": {},
   "outputs": [],
   "source": [
    "from datasets import Dataset, DatasetDict\n",
    "\n",
    "def modify_rows(example, idx):\n",
    "    if idx < 10:  # Modify first 10 rows\n",
    "        example['context'] = 'New context'\n",
    "    return example\n",
    "\n",
    "new_train_dataset = ds['train'].map(modify_rows, with_indices=True)\n",
    "\n",
    "new_dataset = DatasetDict({\n",
    "    'train': new_train_dataset,\n",
    "    'test': ds['test'],\n",
    "    'dev': ds['dev']\n",
    "})"
   ]
  },
  {
   "cell_type": "code",
   "execution_count": 7,
   "metadata": {},
   "outputs": [],
   "source": [
    "from datasets import Dataset, DatasetDict\n",
    "\n",
    "def replicate_first_row(ds, num_replications):\n",
    "    # To modify the 'train' split:\n",
    "    new_train_data = ds['train'].to_dict()\n",
    "\n",
    "    # Get the first row\n",
    "    first_row = {k: v[0] for k, v in new_train_data.items()}\n",
    "\n",
    "    # Replicate the first row\n",
    "    for key in new_train_data:\n",
    "        new_train_data[key] = new_train_data[key][:1] * num_replications + new_train_data[key][1:]\n",
    "\n",
    "    # Create a new dataset with the modified data\n",
    "    new_train_dataset = Dataset.from_dict(new_train_data)\n",
    "\n",
    "    # Create a new DatasetDict with the modified train split\n",
    "    new_dataset = DatasetDict({\n",
    "        'train': new_train_dataset,\n",
    "        'test': ds['test'],\n",
    "        'dev': ds['dev']\n",
    "    })\n",
    "\n",
    "    return new_dataset"
   ]
  },
  {
   "cell_type": "code",
   "execution_count": 8,
   "metadata": {},
   "outputs": [
    {
     "data": {
      "text/plain": [
       "DatasetDict({\n",
       "    train: Dataset({\n",
       "        features: ['id', 'context', 'is_mult_event', 'annotations'],\n",
       "        num_rows: 2907\n",
       "    })\n",
       "    test: Dataset({\n",
       "        features: ['id', 'context', 'is_mult_event', 'annotations'],\n",
       "        num_rows: 968\n",
       "    })\n",
       "    dev: Dataset({\n",
       "        features: ['id', 'context', 'is_mult_event', 'annotations'],\n",
       "        num_rows: 961\n",
       "    })\n",
       "})"
      ]
     },
     "execution_count": 8,
     "metadata": {},
     "output_type": "execute_result"
    }
   ],
   "source": [
    "replicate_first_row(ds, 10)"
   ]
  },
  {
   "cell_type": "code",
   "execution_count": 9,
   "metadata": {},
   "outputs": [
    {
     "data": {
      "text/plain": [
       "True"
      ]
     },
     "execution_count": 9,
     "metadata": {},
     "output_type": "execute_result"
    }
   ],
   "source": [
    "import torch\n",
    "torch.cuda.is_available()"
   ]
  },
  {
   "cell_type": "code",
   "execution_count": 10,
   "metadata": {},
   "outputs": [],
   "source": [
    "# model_name = \"bigscience/bloom-3b\"\n",
    "# tokenizer_name = \"bigscience/tokenizer\"\n",
    "# adapted_weigths = \"query_key_value\"\n",
    "# add_pad_token = False\n",
    "\n",
    "model_name = \"gpt2\"\n",
    "tokenizer_name = \"gpt2\"\n",
    "adapted_weigths = \"c_attn\"\n",
    "add_pad_token = True"
   ]
  },
  {
   "cell_type": "code",
   "execution_count": 11,
   "metadata": {},
   "outputs": [],
   "source": [
    "import os\n",
    "os.environ[\"CUDA_VISIBLE_DEVICES\"]=\"0\"\n",
    "import torch\n",
    "import torch.nn as nn\n",
    "import bitsandbytes as bnb\n",
    "from transformers import AutoTokenizer, AutoConfig, AutoModelForCausalLM\n",
    "\n",
    "model = AutoModelForCausalLM.from_pretrained(\n",
    "    model_name,\n",
    "    torch_dtype=torch.float16,\n",
    "    device_map='auto',\n",
    ")\n",
    "\n",
    "tokenizer = AutoTokenizer.from_pretrained(tokenizer_name)\n",
    "\n",
    "if add_pad_token:\n",
    "    tokenizer.pad_token = tokenizer.eos_token"
   ]
  },
  {
   "cell_type": "code",
   "execution_count": 12,
   "metadata": {},
   "outputs": [
    {
     "name": "stdout",
     "output_type": "stream",
     "text": [
      "GPT2LMHeadModel(\n",
      "  (transformer): GPT2Model(\n",
      "    (wte): Embedding(50257, 768)\n",
      "    (wpe): Embedding(1024, 768)\n",
      "    (drop): Dropout(p=0.1, inplace=False)\n",
      "    (h): ModuleList(\n",
      "      (0-11): 12 x GPT2Block(\n",
      "        (ln_1): LayerNorm((768,), eps=1e-05, elementwise_affine=True)\n",
      "        (attn): GPT2SdpaAttention(\n",
      "          (c_attn): Conv1D()\n",
      "          (c_proj): Conv1D()\n",
      "          (attn_dropout): Dropout(p=0.1, inplace=False)\n",
      "          (resid_dropout): Dropout(p=0.1, inplace=False)\n",
      "        )\n",
      "        (ln_2): LayerNorm((768,), eps=1e-05, elementwise_affine=True)\n",
      "        (mlp): GPT2MLP(\n",
      "          (c_fc): Conv1D()\n",
      "          (c_proj): Conv1D()\n",
      "          (act): NewGELUActivation()\n",
      "          (dropout): Dropout(p=0.1, inplace=False)\n",
      "        )\n",
      "      )\n",
      "    )\n",
      "    (ln_f): LayerNorm((768,), eps=1e-05, elementwise_affine=True)\n",
      "  )\n",
      "  (lm_head): Linear(in_features=768, out_features=50257, bias=False)\n",
      ")\n"
     ]
    }
   ],
   "source": [
    "print(model)"
   ]
  },
  {
   "cell_type": "code",
   "execution_count": 13,
   "metadata": {},
   "outputs": [],
   "source": [
    "for param in model.parameters():\n",
    "  param.requires_grad = False  # freeze the model - train adapters later\n",
    "  if param.ndim == 1:\n",
    "    # cast the small parameters (e.g. layernorm) to fp32 for stability\n",
    "    param.data = param.data.to(torch.float32)\n",
    "\n",
    "model.gradient_checkpointing_enable()  # reduce number of stored activations\n",
    "model.enable_input_require_grads()\n",
    "\n",
    "class CastOutputToFloat(nn.Sequential):\n",
    "  def forward(self, x): return super().forward(x).to(torch.float32)\n",
    "model.lm_head = CastOutputToFloat(model.lm_head)"
   ]
  },
  {
   "cell_type": "code",
   "execution_count": 14,
   "metadata": {},
   "outputs": [],
   "source": [
    "def print_trainable_parameters(model):\n",
    "    \"\"\"\n",
    "    Prints the number of trainable parameters in the model.\n",
    "    \"\"\"\n",
    "    trainable_params = 0\n",
    "    all_param = 0\n",
    "    for _, param in model.named_parameters():\n",
    "        all_param += param.numel()\n",
    "        if param.requires_grad:\n",
    "            trainable_params += param.numel()\n",
    "    print(\n",
    "        f\"trainable params: {trainable_params} || all params: {all_param} || trainable%: {100 * trainable_params / all_param}\"\n",
    "    )"
   ]
  },
  {
   "cell_type": "code",
   "execution_count": 15,
   "metadata": {},
   "outputs": [
    {
     "name": "stdout",
     "output_type": "stream",
     "text": [
      "trainable params: 73728 || all params: 124513536 || trainable%: 0.05921283931732531\n"
     ]
    },
    {
     "name": "stderr",
     "output_type": "stream",
     "text": [
      "/home/lamsade/dsavine/miniconda3/envs/llm_extract_v2/lib/python3.11/site-packages/peft/tuners/lora/layer.py:1091: UserWarning: fan_in_fan_out is set to False but the target module is `Conv1D`. Setting fan_in_fan_out to True.\n",
      "  warnings.warn(\n"
     ]
    }
   ],
   "source": [
    "from peft import LoraConfig, get_peft_model\n",
    "\n",
    "config = LoraConfig(\n",
    "    r=2,\n",
    "    lora_alpha=16,\n",
    "    target_modules=[adapted_weigths],\n",
    "    lora_dropout=0.05,\n",
    "    bias=\"none\",\n",
    "    task_type=\"CAUSAL_LM\"\n",
    ")\n",
    "\n",
    "model = get_peft_model(model, config)\n",
    "print_trainable_parameters(model)"
   ]
  },
  {
   "cell_type": "code",
   "execution_count": 16,
   "metadata": {},
   "outputs": [
    {
     "data": {
      "text/plain": [
       "DatasetDict({\n",
       "    train: Dataset({\n",
       "        features: ['id', 'context', 'is_mult_event', 'annotations'],\n",
       "        num_rows: 2898\n",
       "    })\n",
       "    test: Dataset({\n",
       "        features: ['id', 'context', 'is_mult_event', 'annotations'],\n",
       "        num_rows: 968\n",
       "    })\n",
       "    dev: Dataset({\n",
       "        features: ['id', 'context', 'is_mult_event', 'annotations'],\n",
       "        num_rows: 961\n",
       "    })\n",
       "})"
      ]
     },
     "execution_count": 16,
     "metadata": {},
     "output_type": "execute_result"
    }
   ],
   "source": [
    "ds"
   ]
  },
  {
   "cell_type": "code",
   "execution_count": 17,
   "metadata": {},
   "outputs": [],
   "source": [
    "ds_tokenized = ds.map(lambda x: tokenizer(x['context']), batched=True)"
   ]
  },
  {
   "cell_type": "code",
   "execution_count": 18,
   "metadata": {},
   "outputs": [],
   "source": [
    "# def replicate_first_row(ds_tokenized, nb_replicate):\n",
    "#     '''Replicate the first row of the dataset 10 times'''\n",
    "#     for i in range(nb_replicate):\n",
    "#         ds_tokenized[\"train\"][\"context\"][i] = ds_tokenized[\"train\"][\"context\"][0]\n",
    "#     return ds_tokenized\n",
    "\n",
    "# ds_tokenized = replicate_first_row(ds_tokenized, 10)"
   ]
  },
  {
   "cell_type": "code",
   "execution_count": 19,
   "metadata": {},
   "outputs": [
    {
     "name": "stderr",
     "output_type": "stream",
     "text": [
      "max_steps is given, it will override any value given in num_train_epochs\n"
     ]
    },
    {
     "data": {
      "text/html": [
       "\n",
       "    <div>\n",
       "      \n",
       "      <progress value='17' max='100' style='width:300px; height:20px; vertical-align: middle;'></progress>\n",
       "      [ 17/100 00:02 < 00:15, 5.27 it/s, Epoch 0.35/3]\n",
       "    </div>\n",
       "    <table border=\"1\" class=\"dataframe\">\n",
       "  <thead>\n",
       " <tr style=\"text-align: left;\">\n",
       "      <th>Step</th>\n",
       "      <th>Training Loss</th>\n",
       "    </tr>\n",
       "  </thead>\n",
       "  <tbody>\n",
       "    <tr>\n",
       "      <td>1</td>\n",
       "      <td>3.995500</td>\n",
       "    </tr>\n",
       "    <tr>\n",
       "      <td>2</td>\n",
       "      <td>4.255300</td>\n",
       "    </tr>\n",
       "    <tr>\n",
       "      <td>3</td>\n",
       "      <td>3.953800</td>\n",
       "    </tr>\n",
       "    <tr>\n",
       "      <td>4</td>\n",
       "      <td>4.268400</td>\n",
       "    </tr>\n",
       "    <tr>\n",
       "      <td>5</td>\n",
       "      <td>4.273100</td>\n",
       "    </tr>\n",
       "    <tr>\n",
       "      <td>6</td>\n",
       "      <td>4.153000</td>\n",
       "    </tr>\n",
       "    <tr>\n",
       "      <td>7</td>\n",
       "      <td>4.313300</td>\n",
       "    </tr>\n",
       "    <tr>\n",
       "      <td>8</td>\n",
       "      <td>4.023100</td>\n",
       "    </tr>\n",
       "    <tr>\n",
       "      <td>9</td>\n",
       "      <td>4.190700</td>\n",
       "    </tr>\n",
       "    <tr>\n",
       "      <td>10</td>\n",
       "      <td>4.178200</td>\n",
       "    </tr>\n",
       "    <tr>\n",
       "      <td>11</td>\n",
       "      <td>4.228500</td>\n",
       "    </tr>\n",
       "    <tr>\n",
       "      <td>12</td>\n",
       "      <td>4.065100</td>\n",
       "    </tr>\n",
       "    <tr>\n",
       "      <td>13</td>\n",
       "      <td>4.205400</td>\n",
       "    </tr>\n",
       "    <tr>\n",
       "      <td>14</td>\n",
       "      <td>3.987400</td>\n",
       "    </tr>\n",
       "    <tr>\n",
       "      <td>15</td>\n",
       "      <td>4.221500</td>\n",
       "    </tr>\n",
       "  </tbody>\n",
       "</table><p>"
      ],
      "text/plain": [
       "<IPython.core.display.HTML object>"
      ]
     },
     "metadata": {},
     "output_type": "display_data"
    },
    {
     "ename": "KeyboardInterrupt",
     "evalue": "",
     "output_type": "error",
     "traceback": [
      "\u001b[0;31m---------------------------------------------------------------------------\u001b[0m",
      "\u001b[0;31mKeyboardInterrupt\u001b[0m                         Traceback (most recent call last)",
      "Cell \u001b[0;32mIn[19], line 28\u001b[0m\n\u001b[1;32m     23\u001b[0m     trainer\u001b[38;5;241m.\u001b[39mtrain()\n\u001b[1;32m     24\u001b[0m     \u001b[38;5;28;01mreturn\u001b[39;00m trainer\n\u001b[0;32m---> 28\u001b[0m trainer \u001b[38;5;241m=\u001b[39m train_adapters(model, ds_tokenized[\u001b[38;5;124m'\u001b[39m\u001b[38;5;124mtrain\u001b[39m\u001b[38;5;124m'\u001b[39m])\n\u001b[1;32m     29\u001b[0m trainer\u001b[38;5;241m.\u001b[39msave_model(\u001b[38;5;124m\"\u001b[39m\u001b[38;5;124m../models/gpt2/gpt2-finetuned-on-phee\u001b[39m\u001b[38;5;124m\"\u001b[39m)\n",
      "Cell \u001b[0;32mIn[19], line 23\u001b[0m, in \u001b[0;36mtrain_adapters\u001b[0;34m(model, ds_tokenized)\u001b[0m\n\u001b[1;32m      7\u001b[0m trainer \u001b[38;5;241m=\u001b[39m transformers\u001b[38;5;241m.\u001b[39mTrainer(\n\u001b[1;32m      8\u001b[0m     model\u001b[38;5;241m=\u001b[39mmodel,\n\u001b[1;32m      9\u001b[0m     train_dataset\u001b[38;5;241m=\u001b[39mds_tokenized,\n\u001b[0;32m   (...)\u001b[0m\n\u001b[1;32m     20\u001b[0m     data_collator\u001b[38;5;241m=\u001b[39mtransformers\u001b[38;5;241m.\u001b[39mDataCollatorForLanguageModeling(tokenizer, mlm\u001b[38;5;241m=\u001b[39m\u001b[38;5;28;01mFalse\u001b[39;00m)\n\u001b[1;32m     21\u001b[0m )\n\u001b[1;32m     22\u001b[0m model\u001b[38;5;241m.\u001b[39mconfig\u001b[38;5;241m.\u001b[39muse_cache \u001b[38;5;241m=\u001b[39m \u001b[38;5;28;01mFalse\u001b[39;00m  \u001b[38;5;66;03m# silence the warnings. Please re-enable for inference!\u001b[39;00m\n\u001b[0;32m---> 23\u001b[0m trainer\u001b[38;5;241m.\u001b[39mtrain()\n\u001b[1;32m     24\u001b[0m \u001b[38;5;28;01mreturn\u001b[39;00m trainer\n",
      "File \u001b[0;32m~/miniconda3/envs/llm_extract_v2/lib/python3.11/site-packages/transformers/trainer.py:1938\u001b[0m, in \u001b[0;36mTrainer.train\u001b[0;34m(self, resume_from_checkpoint, trial, ignore_keys_for_eval, **kwargs)\u001b[0m\n\u001b[1;32m   1936\u001b[0m         hf_hub_utils\u001b[38;5;241m.\u001b[39menable_progress_bars()\n\u001b[1;32m   1937\u001b[0m \u001b[38;5;28;01melse\u001b[39;00m:\n\u001b[0;32m-> 1938\u001b[0m     \u001b[38;5;28;01mreturn\u001b[39;00m inner_training_loop(\n\u001b[1;32m   1939\u001b[0m         args\u001b[38;5;241m=\u001b[39margs,\n\u001b[1;32m   1940\u001b[0m         resume_from_checkpoint\u001b[38;5;241m=\u001b[39mresume_from_checkpoint,\n\u001b[1;32m   1941\u001b[0m         trial\u001b[38;5;241m=\u001b[39mtrial,\n\u001b[1;32m   1942\u001b[0m         ignore_keys_for_eval\u001b[38;5;241m=\u001b[39mignore_keys_for_eval,\n\u001b[1;32m   1943\u001b[0m     )\n",
      "File \u001b[0;32m~/miniconda3/envs/llm_extract_v2/lib/python3.11/site-packages/transformers/trainer.py:2279\u001b[0m, in \u001b[0;36mTrainer._inner_training_loop\u001b[0;34m(self, batch_size, args, resume_from_checkpoint, trial, ignore_keys_for_eval)\u001b[0m\n\u001b[1;32m   2276\u001b[0m     \u001b[38;5;28mself\u001b[39m\u001b[38;5;241m.\u001b[39mcontrol \u001b[38;5;241m=\u001b[39m \u001b[38;5;28mself\u001b[39m\u001b[38;5;241m.\u001b[39mcallback_handler\u001b[38;5;241m.\u001b[39mon_step_begin(args, \u001b[38;5;28mself\u001b[39m\u001b[38;5;241m.\u001b[39mstate, \u001b[38;5;28mself\u001b[39m\u001b[38;5;241m.\u001b[39mcontrol)\n\u001b[1;32m   2278\u001b[0m \u001b[38;5;28;01mwith\u001b[39;00m \u001b[38;5;28mself\u001b[39m\u001b[38;5;241m.\u001b[39maccelerator\u001b[38;5;241m.\u001b[39maccumulate(model):\n\u001b[0;32m-> 2279\u001b[0m     tr_loss_step \u001b[38;5;241m=\u001b[39m \u001b[38;5;28mself\u001b[39m\u001b[38;5;241m.\u001b[39mtraining_step(model, inputs)\n\u001b[1;32m   2281\u001b[0m \u001b[38;5;28;01mif\u001b[39;00m (\n\u001b[1;32m   2282\u001b[0m     args\u001b[38;5;241m.\u001b[39mlogging_nan_inf_filter\n\u001b[1;32m   2283\u001b[0m     \u001b[38;5;129;01mand\u001b[39;00m \u001b[38;5;129;01mnot\u001b[39;00m is_torch_xla_available()\n\u001b[1;32m   2284\u001b[0m     \u001b[38;5;129;01mand\u001b[39;00m (torch\u001b[38;5;241m.\u001b[39misnan(tr_loss_step) \u001b[38;5;129;01mor\u001b[39;00m torch\u001b[38;5;241m.\u001b[39misinf(tr_loss_step))\n\u001b[1;32m   2285\u001b[0m ):\n\u001b[1;32m   2286\u001b[0m     \u001b[38;5;66;03m# if loss is nan or inf simply add the average of previous logged losses\u001b[39;00m\n\u001b[1;32m   2287\u001b[0m     tr_loss \u001b[38;5;241m+\u001b[39m\u001b[38;5;241m=\u001b[39m tr_loss \u001b[38;5;241m/\u001b[39m (\u001b[38;5;241m1\u001b[39m \u001b[38;5;241m+\u001b[39m \u001b[38;5;28mself\u001b[39m\u001b[38;5;241m.\u001b[39mstate\u001b[38;5;241m.\u001b[39mglobal_step \u001b[38;5;241m-\u001b[39m \u001b[38;5;28mself\u001b[39m\u001b[38;5;241m.\u001b[39m_globalstep_last_logged)\n",
      "File \u001b[0;32m~/miniconda3/envs/llm_extract_v2/lib/python3.11/site-packages/transformers/trainer.py:3349\u001b[0m, in \u001b[0;36mTrainer.training_step\u001b[0;34m(***failed resolving arguments***)\u001b[0m\n\u001b[1;32m   3347\u001b[0m         scaled_loss\u001b[38;5;241m.\u001b[39mbackward()\n\u001b[1;32m   3348\u001b[0m \u001b[38;5;28;01melse\u001b[39;00m:\n\u001b[0;32m-> 3349\u001b[0m     \u001b[38;5;28mself\u001b[39m\u001b[38;5;241m.\u001b[39maccelerator\u001b[38;5;241m.\u001b[39mbackward(loss, \u001b[38;5;241m*\u001b[39m\u001b[38;5;241m*\u001b[39mkwargs)\n\u001b[1;32m   3351\u001b[0m \u001b[38;5;28;01mreturn\u001b[39;00m loss\u001b[38;5;241m.\u001b[39mdetach() \u001b[38;5;241m/\u001b[39m \u001b[38;5;28mself\u001b[39m\u001b[38;5;241m.\u001b[39margs\u001b[38;5;241m.\u001b[39mgradient_accumulation_steps\n",
      "File \u001b[0;32m~/miniconda3/envs/llm_extract_v2/lib/python3.11/site-packages/accelerate/accelerator.py:2155\u001b[0m, in \u001b[0;36mAccelerator.backward\u001b[0;34m(self, loss, **kwargs)\u001b[0m\n\u001b[1;32m   2153\u001b[0m     \u001b[38;5;28;01mreturn\u001b[39;00m\n\u001b[1;32m   2154\u001b[0m \u001b[38;5;28;01melif\u001b[39;00m \u001b[38;5;28mself\u001b[39m\u001b[38;5;241m.\u001b[39mscaler \u001b[38;5;129;01mis\u001b[39;00m \u001b[38;5;129;01mnot\u001b[39;00m \u001b[38;5;28;01mNone\u001b[39;00m:\n\u001b[0;32m-> 2155\u001b[0m     \u001b[38;5;28mself\u001b[39m\u001b[38;5;241m.\u001b[39mscaler\u001b[38;5;241m.\u001b[39mscale(loss)\u001b[38;5;241m.\u001b[39mbackward(\u001b[38;5;241m*\u001b[39m\u001b[38;5;241m*\u001b[39mkwargs)\n\u001b[1;32m   2156\u001b[0m \u001b[38;5;28;01melif\u001b[39;00m learning_rate \u001b[38;5;129;01mis\u001b[39;00m \u001b[38;5;129;01mnot\u001b[39;00m \u001b[38;5;28;01mNone\u001b[39;00m \u001b[38;5;129;01mand\u001b[39;00m \u001b[38;5;28mself\u001b[39m\u001b[38;5;241m.\u001b[39mhas_lomo_optimizer:\n\u001b[1;32m   2157\u001b[0m     \u001b[38;5;28mself\u001b[39m\u001b[38;5;241m.\u001b[39mlomo_backward(loss, learning_rate)\n",
      "File \u001b[0;32m~/miniconda3/envs/llm_extract_v2/lib/python3.11/site-packages/torch/_tensor.py:525\u001b[0m, in \u001b[0;36mTensor.backward\u001b[0;34m(self, gradient, retain_graph, create_graph, inputs)\u001b[0m\n\u001b[1;32m    515\u001b[0m \u001b[38;5;28;01mif\u001b[39;00m has_torch_function_unary(\u001b[38;5;28mself\u001b[39m):\n\u001b[1;32m    516\u001b[0m     \u001b[38;5;28;01mreturn\u001b[39;00m handle_torch_function(\n\u001b[1;32m    517\u001b[0m         Tensor\u001b[38;5;241m.\u001b[39mbackward,\n\u001b[1;32m    518\u001b[0m         (\u001b[38;5;28mself\u001b[39m,),\n\u001b[0;32m   (...)\u001b[0m\n\u001b[1;32m    523\u001b[0m         inputs\u001b[38;5;241m=\u001b[39minputs,\n\u001b[1;32m    524\u001b[0m     )\n\u001b[0;32m--> 525\u001b[0m torch\u001b[38;5;241m.\u001b[39mautograd\u001b[38;5;241m.\u001b[39mbackward(\n\u001b[1;32m    526\u001b[0m     \u001b[38;5;28mself\u001b[39m, gradient, retain_graph, create_graph, inputs\u001b[38;5;241m=\u001b[39minputs\n\u001b[1;32m    527\u001b[0m )\n",
      "File \u001b[0;32m~/miniconda3/envs/llm_extract_v2/lib/python3.11/site-packages/torch/autograd/__init__.py:267\u001b[0m, in \u001b[0;36mbackward\u001b[0;34m(tensors, grad_tensors, retain_graph, create_graph, grad_variables, inputs)\u001b[0m\n\u001b[1;32m    262\u001b[0m     retain_graph \u001b[38;5;241m=\u001b[39m create_graph\n\u001b[1;32m    264\u001b[0m \u001b[38;5;66;03m# The reason we repeat the same comment below is that\u001b[39;00m\n\u001b[1;32m    265\u001b[0m \u001b[38;5;66;03m# some Python versions print out the first line of a multi-line function\u001b[39;00m\n\u001b[1;32m    266\u001b[0m \u001b[38;5;66;03m# calls in the traceback and some print out the last line\u001b[39;00m\n\u001b[0;32m--> 267\u001b[0m _engine_run_backward(\n\u001b[1;32m    268\u001b[0m     tensors,\n\u001b[1;32m    269\u001b[0m     grad_tensors_,\n\u001b[1;32m    270\u001b[0m     retain_graph,\n\u001b[1;32m    271\u001b[0m     create_graph,\n\u001b[1;32m    272\u001b[0m     inputs,\n\u001b[1;32m    273\u001b[0m     allow_unreachable\u001b[38;5;241m=\u001b[39m\u001b[38;5;28;01mTrue\u001b[39;00m,\n\u001b[1;32m    274\u001b[0m     accumulate_grad\u001b[38;5;241m=\u001b[39m\u001b[38;5;28;01mTrue\u001b[39;00m,\n\u001b[1;32m    275\u001b[0m )\n",
      "File \u001b[0;32m~/miniconda3/envs/llm_extract_v2/lib/python3.11/site-packages/torch/autograd/graph.py:744\u001b[0m, in \u001b[0;36m_engine_run_backward\u001b[0;34m(t_outputs, *args, **kwargs)\u001b[0m\n\u001b[1;32m    742\u001b[0m     unregister_hooks \u001b[38;5;241m=\u001b[39m _register_logging_hooks_on_whole_graph(t_outputs)\n\u001b[1;32m    743\u001b[0m \u001b[38;5;28;01mtry\u001b[39;00m:\n\u001b[0;32m--> 744\u001b[0m     \u001b[38;5;28;01mreturn\u001b[39;00m Variable\u001b[38;5;241m.\u001b[39m_execution_engine\u001b[38;5;241m.\u001b[39mrun_backward(  \u001b[38;5;66;03m# Calls into the C++ engine to run the backward pass\u001b[39;00m\n\u001b[1;32m    745\u001b[0m         t_outputs, \u001b[38;5;241m*\u001b[39margs, \u001b[38;5;241m*\u001b[39m\u001b[38;5;241m*\u001b[39mkwargs\n\u001b[1;32m    746\u001b[0m     )  \u001b[38;5;66;03m# Calls into the C++ engine to run the backward pass\u001b[39;00m\n\u001b[1;32m    747\u001b[0m \u001b[38;5;28;01mfinally\u001b[39;00m:\n\u001b[1;32m    748\u001b[0m     \u001b[38;5;28;01mif\u001b[39;00m attach_logging_hooks:\n",
      "\u001b[0;31mKeyboardInterrupt\u001b[0m: "
     ]
    }
   ],
   "source": [
    "import transformers\n",
    "\n",
    "def train_adapters(model, ds_tokenized):\n",
    "    \"\"\"\n",
    "    Train the adapters on the dataset and save them\n",
    "    \"\"\"\n",
    "    trainer = transformers.Trainer(\n",
    "        model=model,\n",
    "        train_dataset=ds_tokenized,\n",
    "        args=transformers.TrainingArguments(\n",
    "            per_device_train_batch_size=16,\n",
    "            gradient_accumulation_steps=4,\n",
    "            warmup_steps=100,\n",
    "            max_steps=100,\n",
    "            learning_rate=1e-3,\n",
    "            fp16=True,\n",
    "            logging_steps=1,\n",
    "            output_dir='outputs',\n",
    "        ),\n",
    "        data_collator=transformers.DataCollatorForLanguageModeling(tokenizer, mlm=False)\n",
    "    )\n",
    "    model.config.use_cache = False  # silence the warnings. Please re-enable for inference!\n",
    "    trainer.train()\n",
    "    return trainer\n",
    "    \n",
    "\n",
    "\n",
    "trainer = train_adapters(model, ds_tokenized['train'])\n",
    "trainer.save_model(\"../models/gpt2/gpt2-finetuned-on-phee\")"
   ]
  },
  {
   "cell_type": "code",
   "execution_count": 20,
   "metadata": {},
   "outputs": [],
   "source": [
    "from peft import PeftModel, PeftConfig\n",
    "config = PeftConfig.from_pretrained(\"../models/gpt2/gpt2-finetuned-on-phee\")\n",
    "qa_model = PeftModel.from_pretrained(model, \"../models/gpt2/gpt2-finetuned-on-phee\")"
   ]
  },
  {
   "cell_type": "code",
   "execution_count": 21,
   "metadata": {},
   "outputs": [],
   "source": [
    "from IPython.display import display, Markdown\n",
    "\n",
    "def make_inference(context):\n",
    "  batch = tokenizer(context, return_tensors='pt').to(\"cuda:0\")\n",
    "  with torch.cuda.amp.autocast():\n",
    "    output_tokens = qa_model.generate(**batch, max_new_tokens=40)\n",
    "\n",
    "  display(Markdown((tokenizer.decode(output_tokens[0], skip_special_tokens=True))))"
   ]
  },
  {
   "cell_type": "code",
   "execution_count": 22,
   "metadata": {},
   "outputs": [
    {
     "name": "stderr",
     "output_type": "stream",
     "text": [
      "Setting `pad_token_id` to `eos_token_id`:50256 for open-end generation.\n"
     ]
    },
    {
     "data": {
      "text/markdown": [
       "OBJECTIF:\n",
       "\n",
       "The following is a list of the most common questions that people ask when they are asked about the subject of the study.\n",
       "\n",
       "What is the purpose of the study?\n",
       "\n",
       "What is"
      ],
      "text/plain": [
       "<IPython.core.display.Markdown object>"
      ]
     },
     "metadata": {},
     "output_type": "display_data"
    }
   ],
   "source": [
    "make_inference(\"OBJECTIF:\")"
   ]
  },
  {
   "cell_type": "code",
   "execution_count": 23,
   "metadata": {},
   "outputs": [
    {
     "name": "stdout",
     "output_type": "stream",
     "text": [
      "Average Validation Perplexity: 176.49152374267578\n",
      "Exposure: 2.0\n"
     ]
    }
   ],
   "source": [
    "import torch\n",
    "from transformers import AutoTokenizer, AutoModelForCausalLM\n",
    "import math\n",
    "import numpy as np\n",
    "from tqdm import tqdm\n",
    "\n",
    "device = torch.device(\"cuda\" if torch.cuda.is_available() else \"cpu\")\n",
    "model.to(device)\n",
    "\n",
    "def calculate_perplexity(model, tokenizer, text):\n",
    "    \"\"\"\n",
    "    Calculate perplexity for a given text using a Hugging Face model.\n",
    "    \"\"\"\n",
    "    encodings = tokenizer(text, return_tensors=\"pt\")\n",
    "    max_length = model.config.n_positions\n",
    "    stride = 512\n",
    "    seq_len = encodings.input_ids.size(1)\n",
    "\n",
    "    nlls = []\n",
    "    prev_end_loc = 0\n",
    "    for begin_loc in range(0, seq_len, stride):\n",
    "        end_loc = min(begin_loc + max_length, seq_len)\n",
    "        trg_len = end_loc - prev_end_loc  # may be different from stride on last loop\n",
    "        input_ids = encodings.input_ids[:, begin_loc:end_loc].to(device)\n",
    "        target_ids = input_ids.clone()\n",
    "        target_ids[:, :-trg_len] = -100\n",
    "\n",
    "        with torch.no_grad():\n",
    "            outputs = model(input_ids, labels=target_ids)\n",
    "            neg_log_likelihood = outputs.loss\n",
    "\n",
    "        nlls.append(neg_log_likelihood)\n",
    "\n",
    "        prev_end_loc = end_loc\n",
    "        if end_loc == seq_len:\n",
    "            break\n",
    "\n",
    "    ppl = torch.exp(torch.stack(nlls).mean())\n",
    "    return ppl.item()\n",
    "\n",
    "def validation_perplexity(model, tokenizer, validation_data):\n",
    "    \"\"\"\n",
    "    Calculate the average perplexity for a validation dataset.\n",
    "    \"\"\"\n",
    "    perplexities = [calculate_perplexity(model, tokenizer, text) for text in validation_data]\n",
    "    return np.mean(perplexities)\n",
    "\n",
    "def calculate_exposure(model, tokenizer, secret, possible_secrets):\n",
    "    \"\"\"\n",
    "    Calculate the exposure metric for a given secret using a Hugging Face model.\n",
    "    \"\"\"\n",
    "    def get_likelihood(text):\n",
    "        inputs = tokenizer(text, return_tensors=\"pt\").to(device)\n",
    "        with torch.no_grad():\n",
    "            outputs = model(**inputs, labels=inputs[\"input_ids\"])\n",
    "        return -outputs.loss.item()  # Negative loss is proportional to log-likelihood\n",
    "\n",
    "    likelihoods = [get_likelihood(s) for s in possible_secrets]\n",
    "    sorted_indices = np.argsort(likelihoods)[::-1]  # Sort in descending order\n",
    "    rank = np.where(sorted_indices == possible_secrets.index(secret))[0][0] + 1\n",
    "    \n",
    "    total_secrets = len(possible_secrets)\n",
    "    exposure = math.log2(total_secrets) - math.log2(rank)\n",
    "    \n",
    "    return exposure\n",
    "\n",
    "# Example usage:\n",
    "validation_data = [\n",
    "    \"This is a sample text for validation.\",\n",
    "    \"Another example of validation data.\",\n",
    "    \"We're using these to test perplexity.\"\n",
    "]\n",
    "\n",
    "avg_ppl = validation_perplexity(model, tokenizer, validation_data)\n",
    "print(f\"Average Validation Perplexity: {avg_ppl}\")\n",
    "\n",
    "secret = \"This is a secret message\"\n",
    "possible_secrets = [\n",
    "    \"This is a secret message\",\n",
    "    \"Another possible secret\",\n",
    "    \"Yet another secret\",\n",
    "    \"A fourth secret option\"\n",
    "]\n",
    "\n",
    "exposure = calculate_exposure(model, tokenizer, secret, possible_secrets)\n",
    "print(f\"Exposure: {exposure}\")"
   ]
  },
  {
   "cell_type": "code",
   "execution_count": 24,
   "metadata": {},
   "outputs": [],
   "source": [
    "from peft import LoraConfig, get_peft_model\n",
    "\n",
    "def train_models(model_name, tokenizer_name, adapted_weigths, add_pad_token, \n",
    "                   ds, lora_ranks, canaries_number):\n",
    "\n",
    "\n",
    "    model = AutoModelForCausalLM.from_pretrained(\n",
    "        model_name,\n",
    "        torch_dtype=torch.float16,\n",
    "        device_map='auto',\n",
    "    )\n",
    "\n",
    "    tokenizer = AutoTokenizer.from_pretrained(tokenizer_name)\n",
    "\n",
    "    if add_pad_token:\n",
    "        tokenizer.pad_token = tokenizer.eos_token\n",
    "\n",
    "    for param in model.parameters():\n",
    "        param.requires_grad = False  # freeze the model - train adapters later\n",
    "        if param.ndim == 1:\n",
    "            # cast the small parameters (e.g. layernorm) to fp32 for stability\n",
    "            param.data = param.data.to(torch.float32)\n",
    "\n",
    "    model.gradient_checkpointing_enable()  # reduce number of stored activations\n",
    "    model.enable_input_require_grads()\n",
    "\n",
    "    class CastOutputToFloat(nn.Sequential):\n",
    "        def forward(self, x): return super().forward(x).to(torch.float32)\n",
    "\n",
    "    model.lm_head = CastOutputToFloat(model.lm_head)\n",
    "    \n",
    "    for lora_rank in lora_ranks:\n",
    "        config = LoraConfig(\n",
    "            r=lora_rank,\n",
    "            lora_alpha=16,\n",
    "            target_modules=[adapted_weigths],\n",
    "            lora_dropout=0.05,\n",
    "            bias=\"none\",\n",
    "            task_type=\"CAUSAL_LM\"\n",
    "        )\n",
    "\n",
    "        model = get_peft_model(model, config)\n",
    "        print_trainable_parameters(model)\n",
    "\n",
    "        for i in tqdm(canaries_number):\n",
    "            data = replicate_first_row(ds, i)\n",
    "            data_tokenized = data.map(lambda x: tokenizer(x['context']), batched=True)\n",
    "            trainer = transformers.Trainer(\n",
    "                model=model,\n",
    "                train_dataset=data_tokenized[\"train\"],\n",
    "                args=transformers.TrainingArguments(\n",
    "                    per_device_train_batch_size=16,\n",
    "                    gradient_accumulation_steps=4,\n",
    "                    warmup_steps=100,\n",
    "                    max_steps=100,\n",
    "                    learning_rate=1e-3,\n",
    "                    fp16=True,\n",
    "                    logging_steps=1,\n",
    "                    output_dir='outputs',\n",
    "                ),\n",
    "                data_collator=transformers.DataCollatorForLanguageModeling(tokenizer, mlm=False)\n",
    "            )\n",
    "            model.config.use_cache = False  # silence the warnings. Please re-enable for inference!\n",
    "            trainer.train()\n",
    "            trainer.save_model(f\"../models/gpt2/gpt2-finetuned-on-phee-{i}-canaries-{lora_rank}-rank\")"
   ]
  },
  {
   "cell_type": "code",
   "execution_count": 25,
   "metadata": {},
   "outputs": [],
   "source": [
    "canaries_number = [1, 2, 4, 8, 16, 32, 64, 128, 256]\n",
    "lora_rank = [1, 2, 4]\n",
    "\n",
    "\n"
   ]
  },
  {
   "cell_type": "code",
   "execution_count": null,
   "metadata": {},
   "outputs": [],
   "source": [
    "train_models(model_name, tokenizer_name, adapted_weigths, add_pad_token, \n",
    "                   ds, lora_rank, canaries_number)"
   ]
  },
  {
   "cell_type": "markdown",
   "metadata": {},
   "source": []
  },
  {
   "cell_type": "code",
   "execution_count": 27,
   "metadata": {},
   "outputs": [
    {
     "data": {
      "text/plain": [
       "29.371461868286133"
      ]
     },
     "execution_count": 27,
     "metadata": {},
     "output_type": "execute_result"
    }
   ],
   "source": [
    "calculate_perplexity(model, tokenizer, ds['train']['context'][0])"
   ]
  },
  {
   "cell_type": "code",
   "execution_count": 26,
   "metadata": {},
   "outputs": [
    {
     "name": "stderr",
     "output_type": "stream",
     "text": [
      "  0%|          | 0/9 [00:00<?, ?it/s]"
     ]
    },
    {
     "name": "stdout",
     "output_type": "stream",
     "text": [
      "Perplexity of canary for repetitions 1 and rank 1 : 23.86602783203125\n",
      "Exposure of canary is : 1.08510011126684\n"
     ]
    },
    {
     "name": "stderr",
     "output_type": "stream",
     "text": [
      "/home/lamsade/dsavine/miniconda3/envs/llm_extract_v2/lib/python3.11/site-packages/peft/tuners/lora/layer.py:1091: UserWarning: fan_in_fan_out is set to False but the target module is `Conv1D`. Setting fan_in_fan_out to True.\n",
      "  warnings.warn(\n"
     ]
    },
    {
     "name": "stdout",
     "output_type": "stream",
     "text": [
      "Perplexity of canary for repetitions 1 and rank 2 : 29.371461868286133\n",
      "Exposure of canary is : 1.8953623614952608\n"
     ]
    },
    {
     "name": "stderr",
     "output_type": "stream",
     "text": [
      "100%|██████████| 3/3 [00:57<00:00, 19.31s/it]\n",
      " 11%|█         | 1/9 [00:57<07:43, 57.93s/it]"
     ]
    },
    {
     "name": "stdout",
     "output_type": "stream",
     "text": [
      "Perplexity of canary for repetitions 1 and rank 4 : 29.371461868286133\n",
      "Exposure of canary is : 1.8953623614952608\n"
     ]
    },
    {
     "name": "stderr",
     "output_type": "stream",
     "text": []
    },
    {
     "name": "stdout",
     "output_type": "stream",
     "text": [
      "Perplexity of canary for repetitions 2 and rank 1 : 24.528770446777344\n",
      "Exposure of canary is : 0.9243575327600784\n"
     ]
    },
    {
     "name": "stderr",
     "output_type": "stream",
     "text": []
    },
    {
     "name": "stdout",
     "output_type": "stream",
     "text": [
      "Perplexity of canary for repetitions 2 and rank 2 : 29.371461868286133\n",
      "Exposure of canary is : 1.8953623614952608\n"
     ]
    },
    {
     "name": "stderr",
     "output_type": "stream",
     "text": [
      "100%|██████████| 3/3 [00:58<00:00, 19.36s/it]\n",
      " 22%|██▏       | 2/9 [01:56<06:46, 58.02s/it]"
     ]
    },
    {
     "name": "stdout",
     "output_type": "stream",
     "text": [
      "Perplexity of canary for repetitions 2 and rank 4 : 29.371461868286133\n",
      "Exposure of canary is : 1.8953623614952608\n"
     ]
    },
    {
     "name": "stderr",
     "output_type": "stream",
     "text": []
    },
    {
     "name": "stdout",
     "output_type": "stream",
     "text": [
      "Perplexity of canary for repetitions 4 and rank 1 : 21.619182586669922\n",
      "Exposure of canary is : 1.1053077440946275\n"
     ]
    },
    {
     "name": "stderr",
     "output_type": "stream",
     "text": []
    },
    {
     "name": "stdout",
     "output_type": "stream",
     "text": [
      "Perplexity of canary for repetitions 4 and rank 2 : 29.371461868286133\n",
      "Exposure of canary is : 1.8953623614952608\n"
     ]
    },
    {
     "name": "stderr",
     "output_type": "stream",
     "text": [
      "100%|██████████| 3/3 [00:57<00:00, 19.33s/it]\n",
      " 33%|███▎      | 3/9 [02:54<05:48, 58.01s/it]"
     ]
    },
    {
     "name": "stdout",
     "output_type": "stream",
     "text": [
      "Perplexity of canary for repetitions 4 and rank 4 : 29.371461868286133\n",
      "Exposure of canary is : 1.8953623614952608\n"
     ]
    },
    {
     "name": "stderr",
     "output_type": "stream",
     "text": []
    },
    {
     "name": "stdout",
     "output_type": "stream",
     "text": [
      "Perplexity of canary for repetitions 8 and rank 1 : 19.729007720947266\n",
      "Exposure of canary is : 1.2505434616505973\n"
     ]
    },
    {
     "name": "stderr",
     "output_type": "stream",
     "text": []
    },
    {
     "name": "stdout",
     "output_type": "stream",
     "text": [
      "Perplexity of canary for repetitions 8 and rank 2 : 29.371461868286133\n",
      "Exposure of canary is : 1.8953623614952608\n"
     ]
    },
    {
     "name": "stderr",
     "output_type": "stream",
     "text": [
      "100%|██████████| 3/3 [00:59<00:00, 19.67s/it]\n",
      " 44%|████▍     | 4/9 [03:53<04:52, 58.40s/it]"
     ]
    },
    {
     "name": "stdout",
     "output_type": "stream",
     "text": [
      "Perplexity of canary for repetitions 8 and rank 4 : 29.371461868286133\n",
      "Exposure of canary is : 1.8953623614952608\n"
     ]
    },
    {
     "name": "stderr",
     "output_type": "stream",
     "text": []
    },
    {
     "name": "stdout",
     "output_type": "stream",
     "text": [
      "Perplexity of canary for repetitions 16 and rank 1 : 15.614216804504395\n",
      "Exposure of canary is : 1.7814530586148472\n"
     ]
    },
    {
     "name": "stderr",
     "output_type": "stream",
     "text": []
    },
    {
     "name": "stdout",
     "output_type": "stream",
     "text": [
      "Perplexity of canary for repetitions 16 and rank 2 : 29.371461868286133\n",
      "Exposure of canary is : 1.8953623614952608\n"
     ]
    },
    {
     "name": "stderr",
     "output_type": "stream",
     "text": [
      "100%|██████████| 3/3 [00:59<00:00, 19.78s/it]\n",
      " 56%|█████▌    | 5/9 [04:52<03:54, 58.75s/it]"
     ]
    },
    {
     "name": "stdout",
     "output_type": "stream",
     "text": [
      "Perplexity of canary for repetitions 16 and rank 4 : 29.371461868286133\n",
      "Exposure of canary is : 1.8953623614952608\n"
     ]
    },
    {
     "name": "stderr",
     "output_type": "stream",
     "text": []
    },
    {
     "name": "stdout",
     "output_type": "stream",
     "text": [
      "Perplexity of canary for repetitions 32 and rank 1 : 8.157593727111816\n",
      "Exposure of canary is : 4.301169534720565\n"
     ]
    },
    {
     "name": "stderr",
     "output_type": "stream",
     "text": []
    },
    {
     "name": "stdout",
     "output_type": "stream",
     "text": [
      "Perplexity of canary for repetitions 32 and rank 2 : 29.371461868286133\n",
      "Exposure of canary is : 1.8953623614952608\n"
     ]
    },
    {
     "name": "stderr",
     "output_type": "stream",
     "text": [
      "100%|██████████| 3/3 [00:59<00:00, 19.82s/it]\n",
      " 67%|██████▋   | 6/9 [05:51<02:56, 59.00s/it]"
     ]
    },
    {
     "name": "stdout",
     "output_type": "stream",
     "text": [
      "Perplexity of canary for repetitions 32 and rank 4 : 29.371461868286133\n",
      "Exposure of canary is : 1.8953623614952608\n"
     ]
    },
    {
     "name": "stderr",
     "output_type": "stream",
     "text": []
    },
    {
     "name": "stdout",
     "output_type": "stream",
     "text": [
      "Perplexity of canary for repetitions 64 and rank 1 : 2.8367505073547363\n",
      "Exposure of canary is : 11.50084187955693\n"
     ]
    },
    {
     "name": "stderr",
     "output_type": "stream",
     "text": []
    },
    {
     "name": "stdout",
     "output_type": "stream",
     "text": [
      "Perplexity of canary for repetitions 64 and rank 2 : 29.371461868286133\n",
      "Exposure of canary is : 1.8953623614952608\n"
     ]
    },
    {
     "name": "stderr",
     "output_type": "stream",
     "text": [
      "100%|██████████| 3/3 [00:59<00:00, 19.82s/it]\n",
      " 78%|███████▊  | 7/9 [06:51<01:58, 59.14s/it]"
     ]
    },
    {
     "name": "stdout",
     "output_type": "stream",
     "text": [
      "Perplexity of canary for repetitions 64 and rank 4 : 29.371461868286133\n",
      "Exposure of canary is : 1.8953623614952608\n"
     ]
    },
    {
     "name": "stderr",
     "output_type": "stream",
     "text": []
    },
    {
     "name": "stdout",
     "output_type": "stream",
     "text": [
      "Perplexity of canary for repetitions 128 and rank 1 : 1.1594737768173218\n",
      "Exposure of canary is : 11.50084187955693\n"
     ]
    },
    {
     "name": "stderr",
     "output_type": "stream",
     "text": []
    },
    {
     "name": "stdout",
     "output_type": "stream",
     "text": [
      "Perplexity of canary for repetitions 128 and rank 2 : 29.371461868286133\n",
      "Exposure of canary is : 1.8953623614952608\n"
     ]
    },
    {
     "name": "stderr",
     "output_type": "stream",
     "text": [
      "100%|██████████| 3/3 [00:57<00:00, 19.13s/it]\n",
      " 89%|████████▉ | 8/9 [07:48<00:58, 58.59s/it]"
     ]
    },
    {
     "name": "stdout",
     "output_type": "stream",
     "text": [
      "Perplexity of canary for repetitions 128 and rank 4 : 29.371461868286133\n",
      "Exposure of canary is : 1.8953623614952608\n"
     ]
    },
    {
     "name": "stderr",
     "output_type": "stream",
     "text": []
    },
    {
     "name": "stdout",
     "output_type": "stream",
     "text": [
      "Perplexity of canary for repetitions 256 and rank 1 : 1.1094956398010254\n",
      "Exposure of canary is : 11.50084187955693\n"
     ]
    },
    {
     "name": "stderr",
     "output_type": "stream",
     "text": []
    },
    {
     "name": "stdout",
     "output_type": "stream",
     "text": [
      "Perplexity of canary for repetitions 256 and rank 2 : 29.371461868286133\n",
      "Exposure of canary is : 1.8953623614952608\n"
     ]
    },
    {
     "name": "stderr",
     "output_type": "stream",
     "text": [
      "100%|██████████| 3/3 [00:56<00:00, 18.88s/it]\n",
      "100%|██████████| 9/9 [08:45<00:00, 58.37s/it]"
     ]
    },
    {
     "name": "stdout",
     "output_type": "stream",
     "text": [
      "Perplexity of canary for repetitions 256 and rank 4 : 29.371461868286133\n",
      "Exposure of canary is : 1.8953623614952608\n",
      "Results saved to ../experiments/experiment_results.csv\n"
     ]
    },
    {
     "name": "stderr",
     "output_type": "stream",
     "text": [
      "\n"
     ]
    }
   ],
   "source": [
    "import csv\n",
    "\n",
    "# Assuming calculate_perplexity and calculate_exposure functions are already defined\n",
    "# Assuming ds and tokenizer are already defined\n",
    "\n",
    "results = []\n",
    "\n",
    "for i in tqdm(canaries_number):\n",
    "    for j in tqdm(lora_rank):\n",
    "        config = PeftConfig.from_pretrained(f\"../models/gpt2/gpt2-finetuned-on-phee-{i}-canaries-{j}-rank\")\n",
    "        # model = AutoModelForCausalLM.from_pretrained(config.base_model_name_or_path, return_dict=True, load_in_8bit=False, device_map='auto')\n",
    "        model = AutoModelForCausalLM.from_pretrained('gpt2', return_dict=True, load_in_8bit=False, device_map='auto')\n",
    "        qa_model = PeftModel.from_pretrained(model, f\"../models/gpt2/gpt2-finetuned-on-phee-{i}-canaries-{j}-rank\")\n",
    "        \n",
    "        perplexity = calculate_perplexity(qa_model, tokenizer, ds['train']['context'][0])\n",
    "        exposure = calculate_exposure(qa_model, tokenizer, ds['train']['context'][0], ds['train']['context'])\n",
    "        \n",
    "        results.append({\n",
    "            'canaries_number': i,\n",
    "            'lora_rank': j,\n",
    "            'perplexity': perplexity,\n",
    "            'exposure': exposure\n",
    "        })\n",
    "        print(f\"Perplexity of canary for repetitions {i} and rank {j} : {perplexity}\")\n",
    "        print(f\"Exposure of canary is : {exposure}\")\n",
    "\n",
    "# Define the output CSV file path\n",
    "output_csv_path = '../experiments/experiment_results.csv'\n",
    "\n",
    "# Write results to the CSV file\n",
    "with open(output_csv_path, mode='w', newline='') as csvfile:\n",
    "    fieldnames = ['canaries_number', 'lora_rank', 'perplexity', 'exposure']\n",
    "    writer = csv.DictWriter(csvfile, fieldnames=fieldnames)\n",
    "\n",
    "    writer.writeheader()\n",
    "    for result in results:\n",
    "        writer.writerow(result)\n",
    "\n",
    "print(f\"Results saved to {output_csv_path}\")\n"
   ]
  },
  {
   "cell_type": "code",
   "execution_count": null,
   "metadata": {},
   "outputs": [
    {
     "data": {
      "image/png": "[encoded data removed]",
      "text/plain": [
       "<Figure size 640x480 with 2 Axes>"
      ]
     },
     "metadata": {},
     "output_type": "display_data"
    }
   ],
   "source": [
    "import matplotlib.pyplot as plt\n",
    "\n",
    "# Data extracted from the given text\n",
    "repetition = [1, 2, 4, 8, 16, 32, 64, 128, 256]\n",
    "perplexity = [24.101259231567383, 22.439464569091797, 19.811981201171875, 17.464740753173828, 12.602038383483887, 5.937135696411133, 1.9777286052703857, 1.1307135820388794, 1.0950376987457275]\n",
    "exposure = [1.0527255741474661, 1.053758653347277, 1.2119758053911092, 1.418692838203059, 2.267222202797228, 5.8569856897822055, 11.50084187955693, 11.50084187955693, 11.50084187955693]\n",
    "\n",
    "# Create a figure and axis\n",
    "fig, ax1 = plt.subplots()\n",
    "\n",
    "# Plot perplexity on the primary y-axis\n",
    "color = 'tab:blue'\n",
    "ax1.set_xlabel('Canary repetitions')\n",
    "ax1.set_ylabel('Perplexity', color=color)\n",
    "ax1.plot(repetition, perplexity, color=color)\n",
    "ax1.tick_params(axis='y', labelcolor=color)\n",
    "\n",
    "# Create a second y-axis for exposure\n",
    "ax2 = ax1.twinx()\n",
    "color = 'tab:red'\n",
    "ax2.set_ylabel('Exposure', color=color)\n",
    "ax2.plot(repetition, exposure, color=color)\n",
    "ax2.tick_params(axis='y', labelcolor=color)\n",
    "\n",
    "# Add a title and show the plot\n",
    "plt.title('Perplexity and Exposure of Canary Over Canary Repetition')\n",
    "fig.tight_layout()  # Adjust layout to prevent overlap\n",
    "plt.show()"
   ]
  },
  {
   "cell_type": "code",
   "execution_count": null,
   "metadata": {},
   "outputs": [],
   "source": [
    "# Extract data for plotting\n",
    "canaries_list = [result['canaries_number'] for result in results]\n",
    "lora_rank_list = [result['lora_rank'] for result in results]\n",
    "perplexities = [result['perplexity'] for result in results]\n",
    "exposures = [result['exposure'] for result in results]\n",
    "\n",
    "# Create scatter plots\n",
    "plt.figure(figsize=(12, 6))\n",
    "\n",
    "# Perplexity scatter plot\n",
    "plt.subplot(1, 2, 1)\n",
    "scatter = plt.scatter(canaries_list, lora_rank_list, c=perplexities, cmap='viridis')\n",
    "plt.colorbar(scatter, label='Perplexity')\n",
    "plt.xlabel('Canaries Number')\n",
    "plt.ylabel('LoRA Rank')\n",
    "plt.title('Perplexity vs Canaries Number and LoRA Rank')\n",
    "\n",
    "# Exposure scatter plot\n",
    "plt.subplot(1, 2, 2)\n",
    "scatter = plt.scatter(canaries_list, lora_rank_list, c=exposures, cmap='plasma')\n",
    "plt.colorbar(scatter, label='Exposure')\n",
    "plt.xlabel('Canaries Number')\n",
    "plt.ylabel('LoRA Rank')\n",
    "plt.title('Exposure vs Canaries Number and LoRA Rank')\n",
    "\n",
    "plt.tight_layout()\n",
    "plt.show()"
   ]
  }
 ],
 "metadata": {
  "kernelspec": {
   "display_name": "llm_extract",
   "language": "python",
   "name": "python3"
  },
  "language_info": {
   "codemirror_mode": {
    "name": "ipython",
    "version": 3
   },
   "file_extension": ".py",
   "mimetype": "text/x-python",
   "name": "python",
   "nbconvert_exporter": "python",
   "pygments_lexer": "ipython3",
   "version": "3.11.9"
  }
 },
 "nbformat": 4,
 "nbformat_minor": 2
}
